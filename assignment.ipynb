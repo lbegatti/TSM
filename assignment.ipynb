{
 "cells": [
  {
   "cell_type": "markdown",
   "metadata": {},
   "source": [
    "TSM - Assignment.\n",
    "\n",
    "Collect the data for real and nominal yields from the Federal Reserve covering the period Jan 2005-August 2022."
   ]
  },
  {
   "cell_type": "code",
   "execution_count": null,
   "metadata": {
    "collapsed": true,
    "jupyter": {
     "outputs_hidden": true
    }
   },
   "outputs": [],
   "source": [
    "import pandas as pd\n",
    "from helpers import plotYield\n",
    "import plotly.graph_objects as go\n",
    "import plotly.express as px\n",
    "from statsmodels.tsa.stattools import adfuller\n",
    "import chart_studio.plotly as py\n",
    "import plotly.offline as pyo\n",
    "import plotly.io as pio\n",
    "import numpy as np\n",
    "\n",
    "from datamanipulation import dataManipulation\n",
    "from statTests import statTest\n",
    "from yieldMaturitySelector import yieldMatSelector\n",
    "\n",
    "# trick\n",
    "pio.renderers.default = \"notebook\"\n",
    "\n",
    "# instantiate classes \n",
    "yieldselector = yieldMatSelector()\n",
    "stattest = statTest()\n",
    "data_manip = dataManipulation()\n",
    "\n",
    "# collect data from files\n",
    "nominal_yields = pd.read_excel('nominal_yields.xlsx').dropna()\n",
    "real_yields = pd.read_excel('real_yields.xlsx').dropna()\n",
    "\n"
   ]
  },
  {
   "cell_type": "code",
   "execution_count": null,
   "metadata": {
    "collapsed": false,
    "jupyter": {
     "outputs_hidden": false
    },
    "pycharm": {
     "name": "#%%\n"
    }
   },
   "outputs": [],
   "source": [
    "# show the first 5 rows of nominal yields\n",
    "nominal_yields.head()"
   ]
  },
  {
   "cell_type": "code",
   "execution_count": null,
   "metadata": {
    "collapsed": false,
    "jupyter": {
     "outputs_hidden": false
    },
    "pycharm": {
     "name": "#%%\n"
    }
   },
   "outputs": [],
   "source": [
    "# show the first 5 rows of real yields\n",
    "real_yields.head()"
   ]
  },
  {
   "cell_type": "code",
   "execution_count": null,
   "metadata": {
    "collapsed": false,
    "jupyter": {
     "outputs_hidden": false
    },
    "pycharm": {
     "name": "#%%\n"
    }
   },
   "outputs": [],
   "source": [
    "# select specific maturities\n",
    "nominal_yields_2_10y_eom = yieldselector.adjustYieldSerie(df=nominal_yields,type='nominal',FD=False)\n",
    "real_yields_2_10y_eom = yieldselector.adjustYieldSerie(df=real_yields,type='real',FD=False)"
   ]
  },
  {
   "cell_type": "code",
   "execution_count": null,
   "metadata": {
    "collapsed": false,
    "jupyter": {
     "outputs_hidden": false
    },
    "pycharm": {
     "name": "#%%\n"
    }
   },
   "outputs": [],
   "source": [
    "# plot nominal data\n",
    "plotYield(nominal_yields_2_10y_eom,columns=['SVENY02','SVENY03','SVENY05','SVENY07','SVENY10'],type='Nominal',FD=False)"
   ]
  },
  {
   "cell_type": "code",
   "execution_count": null,
   "metadata": {
    "collapsed": false,
    "jupyter": {
     "outputs_hidden": false
    },
    "pycharm": {
     "name": "#%%\n"
    }
   },
   "outputs": [],
   "source": [
    "# plot real yield data (TIPS)\n",
    "plotYield(real_yields_2_10y_eom,columns=['TIPSY02','TIPSY03','TIPSY05','TIPSY07','TIPSY10'],type='Real',FD=False)"
   ]
  },
  {
   "cell_type": "markdown",
   "metadata": {},
   "source": [
    "We have extracted and plotted the data, but before proceeding with PCA, it is usually well-practice to ensure stationarity of the data under consideration. From the figures of nominal and real yields respectively, some clear trends which for the statistical inference of data analysis should be removed (or limited as much as possible) for a correct interpretation of the results."
   ]
  },
  {
   "cell_type": "code",
   "execution_count": null,
   "metadata": {
    "collapsed": false,
    "jupyter": {
     "outputs_hidden": false
    },
    "pycharm": {
     "name": "#%%\n"
    }
   },
   "outputs": [],
   "source": [
    "# check for stationarity in nominal yields\n",
    "nominal2y_yieldADF = stattest.ADFtest(nominal_yields_2_10y_eom,type='nominal',maturity='2y')"
   ]
  },
  {
   "cell_type": "code",
   "execution_count": null,
   "metadata": {
    "collapsed": false,
    "jupyter": {
     "outputs_hidden": false
    },
    "pycharm": {
     "name": "#%%\n"
    }
   },
   "outputs": [],
   "source": [
    "# let's try for 5y yields\n",
    "nominal5y_yieldADF = stattest.ADFtest(nominal_yields_2_10y_eom,type='nominal',maturity='5y')"
   ]
  },
  {
   "cell_type": "code",
   "execution_count": null,
   "metadata": {
    "collapsed": false,
    "jupyter": {
     "outputs_hidden": false
    },
    "pycharm": {
     "name": "#%%\n"
    }
   },
   "outputs": [],
   "source": [
    "# let's try for 10y yields\n",
    "nominal10y_yieldADF = stattest.ADFtest(nominal_yields_2_10y_eom,type='nominal',maturity='10y')"
   ]
  },
  {
   "cell_type": "code",
   "execution_count": null,
   "metadata": {
    "collapsed": false,
    "jupyter": {
     "outputs_hidden": false
    },
    "pycharm": {
     "name": "#%%\n"
    }
   },
   "outputs": [],
   "source": [
    "# nominal yields are non-stationary, so we re-take the original data, apply first difference and then take only the month end\n",
    "nominal_yields_2_10y_eom_FD = yieldselector.adjustYieldSerie(nominal_yields,type='nominal',FD=True)\n",
    "nominal_yields_2_10y_eom_FD.head()"
   ]
  },
  {
   "cell_type": "code",
   "execution_count": null,
   "metadata": {
    "collapsed": false,
    "jupyter": {
     "outputs_hidden": false
    },
    "pycharm": {
     "name": "#%%\n"
    }
   },
   "outputs": [],
   "source": [
    "# check stationarity after first difference (only for the 2y)\n",
    "nominal2y_yieldADF_FD = stattest.ADFtest(nominal_yields_2_10y_eom_FD,type='nominal',maturity='2y')\n",
    "#ADFtest(nominal_yields_2_10y_eom_shifted,type='nominal',maturity='2y')"
   ]
  },
  {
   "cell_type": "code",
   "execution_count": null,
   "metadata": {
    "collapsed": false,
    "jupyter": {
     "outputs_hidden": false
    },
    "pycharm": {
     "name": "#%%\n"
    }
   },
   "outputs": [],
   "source": [
    "# let's plot the nominal yields stationary data\n",
    "plotYield(nominal_yields_2_10y_eom_FD,columns=['SVENY02','SVENY03','SVENY05','SVENY07','SVENY10'],type='Nominal',FD=True)"
   ]
  },
  {
   "cell_type": "code",
   "execution_count": null,
   "metadata": {
    "collapsed": false,
    "jupyter": {
     "outputs_hidden": false
    },
    "pycharm": {
     "name": "#%%\n"
    }
   },
   "outputs": [],
   "source": [
    "# check for stationarity in real yields\n",
    "real2y_yieldADF_FD = stattest.ADFtest(real_yields_2_10y_eom,type='real',maturity='2y')"
   ]
  },
  {
   "cell_type": "code",
   "execution_count": null,
   "metadata": {
    "collapsed": false,
    "jupyter": {
     "outputs_hidden": false
    },
    "pycharm": {
     "name": "#%%\n"
    }
   },
   "outputs": [],
   "source": [
    "# let's try with 5y\n",
    "real5y_yieldADF_FD = stattest.ADFtest(real_yields_2_10y_eom,type='real',maturity='5y')"
   ]
  },
  {
   "cell_type": "code",
   "execution_count": null,
   "metadata": {
    "collapsed": false,
    "jupyter": {
     "outputs_hidden": false
    },
    "pycharm": {
     "name": "#%%\n"
    }
   },
   "outputs": [],
   "source": [
    "# let's try with 10y\n",
    "real10y_yieldADF_FD = stattest.ADFtest(real_yields_2_10y_eom,type='real',maturity='10y')"
   ]
  },
  {
   "cell_type": "code",
   "execution_count": null,
   "metadata": {
    "collapsed": false,
    "jupyter": {
     "outputs_hidden": false
    },
    "pycharm": {
     "name": "#%%\n"
    }
   },
   "outputs": [],
   "source": [
    "# real yields are non-stationary, so we re-take the original data, apply first difference and then take only the month end\n",
    "real_yields_2_10y_eom_FD = yieldselector.adjustYieldSerie(real_yields,type='real',FD=True)"
   ]
  },
  {
   "cell_type": "code",
   "execution_count": null,
   "metadata": {
    "collapsed": false,
    "jupyter": {
     "outputs_hidden": false
    },
    "pycharm": {
     "name": "#%%\n"
    }
   },
   "outputs": [],
   "source": [
    "# check stationarity after first difference (only for the 2y)\n",
    "real2y_yieldADF_FD = stattest.ADFtest(real_yields_2_10y_eom_FD,type='real',maturity='2y')"
   ]
  },
  {
   "cell_type": "code",
   "execution_count": null,
   "metadata": {
    "collapsed": false,
    "jupyter": {
     "outputs_hidden": false
    },
    "pycharm": {
     "name": "#%%\n"
    }
   },
   "outputs": [],
   "source": [
    "# let's plot the nominal yields stationary data\n",
    "plotYield(real_yields_2_10y_eom_FD,columns=['TIPSY02','TIPSY03','TIPSY05','TIPSY07','TIPSY10'],type='Real',FD=True)"
   ]
  },
  {
   "cell_type": "markdown",
   "metadata": {},
   "source": [
    "Now we have done all the preliminary analysis entailing first differencing the data to ensure stationarity. At this point, we can start with the principal components analysis (PCA) using the stationary data."
   ]
  },
  {
   "cell_type": "code",
   "execution_count": null,
   "metadata": {
    "collapsed": false,
    "jupyter": {
     "outputs_hidden": false
    },
    "pycharm": {
     "name": "#%%\n"
    }
   },
   "outputs": [],
   "source": [
    "# PCA"
   ]
  }
 ],
 "metadata": {
  "kernelspec": {
   "display_name": "Python 3.9.1 64-bit",
   "language": "python",
   "name": "python3"
  },
  "language_info": {
   "codemirror_mode": {
    "name": "ipython",
    "version": 3
   },
   "file_extension": ".py",
   "mimetype": "text/x-python",
   "name": "python",
   "nbconvert_exporter": "python",
   "pygments_lexer": "ipython3",
   "version": "3.10.6"
  },
  "toc-autonumbering": true,
  "toc-showcode": false,
  "toc-showmarkdowntxt": true,
  "vscode": {
   "interpreter": {
    "hash": "aee8b7b246df8f9039afb4144a1f6fd8d2ca17a180786b69acc140d282b71a49"
   }
  }
 },
 "nbformat": 4,
 "nbformat_minor": 4
}
